{
 "cells": [
  {
   "cell_type": "markdown",
   "id": "52bb88c9",
   "metadata": {},
   "source": [
    "# Data Science Final Project"
   ]
  },
  {
   "cell_type": "markdown",
   "id": "7cf9df6d",
   "metadata": {},
   "source": [
    "## Introduction\n",
    "This notebook is part of the final project for demonstrating proficiency in Data Science tools, languages, and concepts."
   ]
  },
  {
   "cell_type": "markdown",
   "id": "2cab49ea",
   "metadata": {},
   "source": [
    "## Data Science Languages\n",
    "1. Python\n",
    "2. R\n",
    "3. SQL\n",
    "4. Julia\n",
    "5. Java\n",
    "6. Scala"
   ]
  },
  {
   "cell_type": "markdown",
   "id": "05d07470",
   "metadata": {},
   "source": [
    "## Data Science Libraries\n",
    "1. NumPy\n",
    "2. Pandas\n",
    "3. Matplotlib\n",
    "4. Scikit-learn\n",
    "5. TensorFlow\n",
    "6. PyTorch"
   ]
  },
  {
   "cell_type": "markdown",
   "id": "88afde40",
   "metadata": {},
   "source": [
    "## Data Science Tools\n",
    "| Tool            | Purpose                     |\n",
    "|-----------------|-----------------------------|\n",
    "| Jupyter Notebook | Interactive development     |\n",
    "| RStudio          | Statistical computing       |\n",
    "| Apache Spark     | Big data processing         |\n",
    "| Tableau          | Data visualization          |\n",
    "| Power BI         | Business analytics          |"
   ]
  },
  {
   "cell_type": "markdown",
   "id": "a7732e4b",
   "metadata": {},
   "source": [
    "## Arithmetic Expression Examples\n",
    "Here are some examples of arithmetic expressions:\n",
    "- Addition: 5 + 3 = 8\n",
    "- Multiplication: 4 * 2 = 8\n",
    "- Subtraction: 9 - 3 = 6"
   ]
  },
  {
   "cell_type": "code",
   "execution_count": null,
   "id": "b977aa30",
   "metadata": {},
   "outputs": [],
   "source": [
    "# Multiplication and addition\n",
    "a = 5\n",
    "b = 3\n",
    "print(\"Multiplication:\", a * b)\n",
    "print(\"Addition:\", a + b)"
   ]
  },
  {
   "cell_type": "code",
   "execution_count": null,
   "id": "9ae4447f",
   "metadata": {},
   "outputs": [],
   "source": [
    "# Convert minutes to hours\n",
    "minutes = 150\n",
    "hours = minutes / 60\n",
    "print(f\"{minutes} minutes is equal to {hours} hours.\")"
   ]
  },
  {
   "cell_type": "markdown",
   "id": "353e36ad",
   "metadata": {},
   "source": [
    "## Objectives\n",
    "1. Learn and apply Data Science languages and libraries.\n",
    "2. Understand various Data Science tools and their applications.\n",
    "3. Demonstrate problem-solving skills using code cells."
   ]
  },
  {
   "cell_type": "markdown",
   "id": "32e9e1da",
   "metadata": {},
   "source": [
    "## Author\n",
    "Marinos Antoniou"
   ]
  },
  {
   "cell_type": "markdown",
   "id": "3f147fac",
   "metadata": {},
   "source": [
    "## Share the Notebook\n",
    "Upload your notebook to a public repository on GitHub and ensure it is publicly viewable. Provide the link to your repository."
   ]
  },
  {
   "cell_type": "markdown",
   "id": "b3b55f2e",
   "metadata": {},
   "source": [
    "## Screenshot of the Notebook\n",
    "Take a screenshot of the first page of the notebook and include it in your submission."
   ]
  }
 ],
 "metadata": {},
 "nbformat": 4,
 "nbformat_minor": 5
}
